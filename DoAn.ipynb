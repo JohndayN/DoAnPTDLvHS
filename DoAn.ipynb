{
 "cells": [
  {
   "cell_type": "markdown",
   "metadata": {},
   "source": [
    "# ***Đồ án môn học Nhập môn Phân tích dữ liệu và Học sâu***"
   ]
  },
  {
   "cell_type": "code",
   "execution_count": 7,
   "metadata": {},
   "outputs": [
    {
     "name": "stdout",
     "output_type": "stream",
     "text": [
      "                                             Address  Area  Frontage  \\\n",
      "0  Dự án The Empire - Vinhomes Ocean Park 2, Xã L...  84.0       NaN   \n",
      "1  Dự án The Crown - Vinhomes Ocean Park 3, Xã Ng...  60.0       NaN   \n",
      "2  Dự án The Crown - Vinhomes Ocean Park 3, Xã Ng...  90.0       6.0   \n",
      "3  Đường Nguyễn Văn Khối, Phường 11, Gò Vấp, Hồ C...  54.0       NaN   \n",
      "4   Đường Quang Trung, Phường 8, Gò Vấp, Hồ Chí Minh  92.0       NaN   \n",
      "5  Dự án The Empire - Vinhomes Ocean Park 2, Xã L...  91.0       7.0   \n",
      "6  Dự án The Empire - Vinhomes Ocean Park 2, Xã L...  64.0       4.0   \n",
      "7  Dự án Him Lam Thường Tín, Huyện Thường Tín, Hà...  74.0       5.0   \n",
      "8  Dự án The Empire - Vinhomes Ocean Park 2, Xã L...  48.0       NaN   \n",
      "9  Dự án The Crown - Vinhomes Ocean Park 3, Xã Ng...  91.0       7.0   \n",
      "\n",
      "   Access Road House direction Balcony direction  Floors  Bedrooms  Bathrooms  \\\n",
      "0          NaN             NaN               NaN     4.0       NaN        NaN   \n",
      "1          NaN             NaN               NaN     5.0       NaN        NaN   \n",
      "2         13.0      Đông - Bắc        Đông - Bắc     5.0       NaN        NaN   \n",
      "3          3.5       Tây - Nam         Tây - Nam     2.0       2.0        3.0   \n",
      "4          NaN      Đông - Nam        Đông - Nam     2.0       4.0        4.0   \n",
      "5         13.0       Tây - Bắc               NaN     NaN       NaN        NaN   \n",
      "6          NaN             NaN               NaN     5.0       NaN        NaN   \n",
      "7         18.0             Nam               Nam     5.0       4.0        5.0   \n",
      "8          NaN             NaN               NaN     5.0       6.0        NaN   \n",
      "9          NaN             NaN               NaN     5.0       NaN        NaN   \n",
      "\n",
      "       Legal status Furniture state  Price  \n",
      "0  Have certificate             NaN   8.60  \n",
      "1               NaN             NaN   7.50  \n",
      "2     Sale contract             NaN   8.90  \n",
      "3  Have certificate            Full   5.35  \n",
      "4  Have certificate            Full   6.90  \n",
      "5  Have certificate             NaN   9.80  \n",
      "6               NaN             NaN   7.20  \n",
      "7  Have certificate             NaN   9.90  \n",
      "8               NaN           Basic   5.70  \n",
      "9  Have certificate             NaN   9.50  \n"
     ]
    }
   ],
   "source": [
    "import pandas as pd\n",
    "\n",
    "def load_data():\n",
    "    df = pd.read_csv(\"vietnam_housing_dataset.csv\")\n",
    "    return df\n",
    "df = load_data()\n",
    "\n",
    "def load_10(df):\n",
    "    print(df.head(10))\n",
    "load_10(df)"
   ]
  },
  {
   "cell_type": "markdown",
   "metadata": {},
   "source": [
    "# **Mô tả dữ liệu**"
   ]
  }
 ],
 "metadata": {
  "kernelspec": {
   "display_name": "Python 3",
   "language": "python",
   "name": "python3"
  },
  "language_info": {
   "codemirror_mode": {
    "name": "ipython",
    "version": 3
   },
   "file_extension": ".py",
   "mimetype": "text/x-python",
   "name": "python",
   "nbconvert_exporter": "python",
   "pygments_lexer": "ipython3",
   "version": "3.9.3"
  }
 },
 "nbformat": 4,
 "nbformat_minor": 2
}
