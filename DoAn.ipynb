{
 "cells": [
  {
   "cell_type": "markdown",
   "metadata": {},
   "source": [
    "# ***Đồ án môn học Nhập môn Phân tích dữ liệu và Học sâu***"
   ]
  },
  {
   "cell_type": "code",
   "execution_count": 8,
   "metadata": {},
   "outputs": [],
   "source": [
    "import pandas as pd\n",
    "import matplotlib.pyplot as plt\n",
    "import seaborn as sns\n",
    "\n",
    "#Hàm tải dữ liệu\n",
    "def load_data():\n",
    "    df = pd.read_csv(\"vietnam_housing_dataset.csv\")\n",
    "    return df\n",
    "df = load_data()\n"
   ]
  },
  {
   "cell_type": "markdown",
   "metadata": {},
   "source": [
    "# **Mô tả dữ liệu**"
   ]
  },
  {
   "cell_type": "code",
   "execution_count": 9,
   "metadata": {},
   "outputs": [
    {
     "data": {
      "application/vnd.microsoft.datawrangler.viewer.v0+json": {
       "columns": [
        {
         "name": "index",
         "rawType": "int64",
         "type": "integer"
        },
        {
         "name": "Address",
         "rawType": "object",
         "type": "string"
        },
        {
         "name": "Area",
         "rawType": "float64",
         "type": "float"
        },
        {
         "name": "Frontage",
         "rawType": "float64",
         "type": "float"
        },
        {
         "name": "Access Road",
         "rawType": "float64",
         "type": "float"
        },
        {
         "name": "House direction",
         "rawType": "object",
         "type": "unknown"
        },
        {
         "name": "Balcony direction",
         "rawType": "object",
         "type": "unknown"
        },
        {
         "name": "Floors",
         "rawType": "float64",
         "type": "float"
        },
        {
         "name": "Bedrooms",
         "rawType": "float64",
         "type": "float"
        },
        {
         "name": "Bathrooms",
         "rawType": "float64",
         "type": "float"
        },
        {
         "name": "Legal status",
         "rawType": "object",
         "type": "unknown"
        },
        {
         "name": "Furniture state",
         "rawType": "object",
         "type": "unknown"
        },
        {
         "name": "Price",
         "rawType": "float64",
         "type": "float"
        }
       ],
       "conversionMethod": "pd.DataFrame",
       "ref": "e31fe0bb-2c40-4687-a779-579371066ca3",
       "rows": [
        [
         "0",
         "Dự án The Empire - Vinhomes Ocean Park 2, Xã Long Hưng, Văn Giang, Hưng Yên",
         "84.0",
         null,
         null,
         null,
         null,
         "4.0",
         null,
         null,
         "Have certificate",
         null,
         "8.6"
        ],
        [
         "1",
         "Dự án The Crown - Vinhomes Ocean Park 3, Xã Nghĩa Trụ, Văn Giang, Hưng Yên",
         "60.0",
         null,
         null,
         null,
         null,
         "5.0",
         null,
         null,
         null,
         null,
         "7.5"
        ],
        [
         "2",
         "Dự án The Crown - Vinhomes Ocean Park 3, Xã Nghĩa Trụ, Văn Giang, Hưng Yên",
         "90.0",
         "6.0",
         "13.0",
         "Đông - Bắc",
         "Đông - Bắc",
         "5.0",
         null,
         null,
         "Sale contract",
         null,
         "8.9"
        ],
        [
         "3",
         "Đường Nguyễn Văn Khối, Phường 11, Gò Vấp, Hồ Chí Minh",
         "54.0",
         null,
         "3.5",
         "Tây - Nam",
         "Tây - Nam",
         "2.0",
         "2.0",
         "3.0",
         "Have certificate",
         "Full",
         "5.35"
        ],
        [
         "4",
         "Đường Quang Trung, Phường 8, Gò Vấp, Hồ Chí Minh",
         "92.0",
         null,
         null,
         "Đông - Nam",
         "Đông - Nam",
         "2.0",
         "4.0",
         "4.0",
         "Have certificate",
         "Full",
         "6.9"
        ]
       ],
       "shape": {
        "columns": 12,
        "rows": 5
       }
      },
      "text/html": [
       "<div>\n",
       "<style scoped>\n",
       "    .dataframe tbody tr th:only-of-type {\n",
       "        vertical-align: middle;\n",
       "    }\n",
       "\n",
       "    .dataframe tbody tr th {\n",
       "        vertical-align: top;\n",
       "    }\n",
       "\n",
       "    .dataframe thead th {\n",
       "        text-align: right;\n",
       "    }\n",
       "</style>\n",
       "<table border=\"1\" class=\"dataframe\">\n",
       "  <thead>\n",
       "    <tr style=\"text-align: right;\">\n",
       "      <th></th>\n",
       "      <th>Address</th>\n",
       "      <th>Area</th>\n",
       "      <th>Frontage</th>\n",
       "      <th>Access Road</th>\n",
       "      <th>House direction</th>\n",
       "      <th>Balcony direction</th>\n",
       "      <th>Floors</th>\n",
       "      <th>Bedrooms</th>\n",
       "      <th>Bathrooms</th>\n",
       "      <th>Legal status</th>\n",
       "      <th>Furniture state</th>\n",
       "      <th>Price</th>\n",
       "    </tr>\n",
       "  </thead>\n",
       "  <tbody>\n",
       "    <tr>\n",
       "      <th>0</th>\n",
       "      <td>Dự án The Empire - Vinhomes Ocean Park 2, Xã L...</td>\n",
       "      <td>84.0</td>\n",
       "      <td>NaN</td>\n",
       "      <td>NaN</td>\n",
       "      <td>NaN</td>\n",
       "      <td>NaN</td>\n",
       "      <td>4.0</td>\n",
       "      <td>NaN</td>\n",
       "      <td>NaN</td>\n",
       "      <td>Have certificate</td>\n",
       "      <td>NaN</td>\n",
       "      <td>8.60</td>\n",
       "    </tr>\n",
       "    <tr>\n",
       "      <th>1</th>\n",
       "      <td>Dự án The Crown - Vinhomes Ocean Park 3, Xã Ng...</td>\n",
       "      <td>60.0</td>\n",
       "      <td>NaN</td>\n",
       "      <td>NaN</td>\n",
       "      <td>NaN</td>\n",
       "      <td>NaN</td>\n",
       "      <td>5.0</td>\n",
       "      <td>NaN</td>\n",
       "      <td>NaN</td>\n",
       "      <td>NaN</td>\n",
       "      <td>NaN</td>\n",
       "      <td>7.50</td>\n",
       "    </tr>\n",
       "    <tr>\n",
       "      <th>2</th>\n",
       "      <td>Dự án The Crown - Vinhomes Ocean Park 3, Xã Ng...</td>\n",
       "      <td>90.0</td>\n",
       "      <td>6.0</td>\n",
       "      <td>13.0</td>\n",
       "      <td>Đông - Bắc</td>\n",
       "      <td>Đông - Bắc</td>\n",
       "      <td>5.0</td>\n",
       "      <td>NaN</td>\n",
       "      <td>NaN</td>\n",
       "      <td>Sale contract</td>\n",
       "      <td>NaN</td>\n",
       "      <td>8.90</td>\n",
       "    </tr>\n",
       "    <tr>\n",
       "      <th>3</th>\n",
       "      <td>Đường Nguyễn Văn Khối, Phường 11, Gò Vấp, Hồ C...</td>\n",
       "      <td>54.0</td>\n",
       "      <td>NaN</td>\n",
       "      <td>3.5</td>\n",
       "      <td>Tây - Nam</td>\n",
       "      <td>Tây - Nam</td>\n",
       "      <td>2.0</td>\n",
       "      <td>2.0</td>\n",
       "      <td>3.0</td>\n",
       "      <td>Have certificate</td>\n",
       "      <td>Full</td>\n",
       "      <td>5.35</td>\n",
       "    </tr>\n",
       "    <tr>\n",
       "      <th>4</th>\n",
       "      <td>Đường Quang Trung, Phường 8, Gò Vấp, Hồ Chí Minh</td>\n",
       "      <td>92.0</td>\n",
       "      <td>NaN</td>\n",
       "      <td>NaN</td>\n",
       "      <td>Đông - Nam</td>\n",
       "      <td>Đông - Nam</td>\n",
       "      <td>2.0</td>\n",
       "      <td>4.0</td>\n",
       "      <td>4.0</td>\n",
       "      <td>Have certificate</td>\n",
       "      <td>Full</td>\n",
       "      <td>6.90</td>\n",
       "    </tr>\n",
       "  </tbody>\n",
       "</table>\n",
       "</div>"
      ],
      "text/plain": [
       "                                             Address  Area  Frontage  \\\n",
       "0  Dự án The Empire - Vinhomes Ocean Park 2, Xã L...  84.0       NaN   \n",
       "1  Dự án The Crown - Vinhomes Ocean Park 3, Xã Ng...  60.0       NaN   \n",
       "2  Dự án The Crown - Vinhomes Ocean Park 3, Xã Ng...  90.0       6.0   \n",
       "3  Đường Nguyễn Văn Khối, Phường 11, Gò Vấp, Hồ C...  54.0       NaN   \n",
       "4   Đường Quang Trung, Phường 8, Gò Vấp, Hồ Chí Minh  92.0       NaN   \n",
       "\n",
       "   Access Road House direction Balcony direction  Floors  Bedrooms  Bathrooms  \\\n",
       "0          NaN             NaN               NaN     4.0       NaN        NaN   \n",
       "1          NaN             NaN               NaN     5.0       NaN        NaN   \n",
       "2         13.0      Đông - Bắc        Đông - Bắc     5.0       NaN        NaN   \n",
       "3          3.5       Tây - Nam         Tây - Nam     2.0       2.0        3.0   \n",
       "4          NaN      Đông - Nam        Đông - Nam     2.0       4.0        4.0   \n",
       "\n",
       "       Legal status Furniture state  Price  \n",
       "0  Have certificate             NaN   8.60  \n",
       "1               NaN             NaN   7.50  \n",
       "2     Sale contract             NaN   8.90  \n",
       "3  Have certificate            Full   5.35  \n",
       "4  Have certificate            Full   6.90  "
      ]
     },
     "metadata": {},
     "output_type": "display_data"
    },
    {
     "data": {
      "text/plain": [
       "Frontage             11564\n",
       "Access Road          13297\n",
       "House direction      21239\n",
       "Balcony direction    24983\n",
       "Floors                3603\n",
       "Bedrooms              5162\n",
       "Bathrooms             7074\n",
       "Legal status          4506\n",
       "Furniture state      14119\n",
       "dtype: int64"
      ]
     },
     "metadata": {},
     "output_type": "display_data"
    },
    {
     "data": {
      "text/plain": [
       "count    30229.000000\n",
       "mean         5.872078\n",
       "std          2.211877\n",
       "min          1.000000\n",
       "25%          4.200000\n",
       "50%          5.900000\n",
       "75%          7.500000\n",
       "max         11.500000\n",
       "Name: Price, dtype: float64"
      ]
     },
     "metadata": {},
     "output_type": "display_data"
    },
    {
     "data": {
      "image/png": "[encoded data removed]",
      "text/plain": [
       "<Figure size 1200x600 with 1 Axes>"
      ]
     },
     "metadata": {},
     "output_type": "display_data"
    },
    {
     "name": "stdout",
     "output_type": "stream",
     "text": [
      "Tên các cột trong dữ liệu: Index(['Address', 'Area', 'Frontage', 'Access Road', 'House direction',\n",
      "       'Balcony direction', 'Floors', 'Bedrooms', 'Bathrooms', 'Legal status',\n",
      "       'Furniture state', 'Price'],\n",
      "      dtype='object')\n"
     ]
    }
   ],
   "source": [
    "#Hàm print dữ liệu\n",
    "def print_data(df):\n",
    "    display(df.head())\n",
    "print_data(df)\n",
    "\n",
    "# Kiểm tra dữ liệu bị thiếu\n",
    "missing_values = df.isnull().sum()\n",
    "display(missing_values[missing_values > 0])\n",
    "\n",
    "# Phân tích thống kê giá nhà\n",
    "display(df[\"Price\"].describe())\n",
    "\n",
    "# Biểu đồ phân phối giá nhà\n",
    "plt.figure(figsize=(12, 6))\n",
    "sns.boxplot(x=df[\"Price\"])\n",
    "plt.title(\"House Price Distribution (Boxplot)\")\n",
    "plt.show()\n",
    "\n",
    "# Kiểm tra xem có cột thời gian không\n",
    "print(\"Tên các cột trong dữ liệu:\", df.columns)"
   ]
  },
  {
   "cell_type": "code",
   "execution_count": null,
   "metadata": {},
   "outputs": [
    {
     "name": "stdout",
     "output_type": "stream",
     "text": [
      "<class 'pandas.core.frame.DataFrame'>\n",
      "Index: 27096 entries, 2 to 30228\n",
      "Data columns (total 12 columns):\n",
      " #   Column             Non-Null Count  Dtype  \n",
      "---  ------             --------------  -----  \n",
      " 0   Address            27096 non-null  object \n",
      " 1   Area               27096 non-null  float64\n",
      " 2   Frontage           27096 non-null  float64\n",
      " 3   Access Road        27096 non-null  float64\n",
      " 4   House direction    8874 non-null   object \n",
      " 5   Balcony direction  5242 non-null   object \n",
      " 6   Floors             27096 non-null  float64\n",
      " 7   Bedrooms           27096 non-null  float64\n",
      " 8   Bathrooms          27096 non-null  float64\n",
      " 9   Legal status       24322 non-null  object \n",
      " 10  Furniture state    15934 non-null  object \n",
      " 11  Price              27096 non-null  float64\n",
      "dtypes: float64(7), object(5)\n",
      "memory usage: 2.7+ MB\n"
     ]
    },
    {
     "data": {
      "text/plain": [
       "None"
      ]
     },
     "metadata": {},
     "output_type": "display_data"
    },
    {
     "data": {
      "application/vnd.microsoft.datawrangler.viewer.v0+json": {
       "columns": [
        {
         "name": "index",
         "rawType": "int64",
         "type": "integer"
        },
        {
         "name": "Address",
         "rawType": "object",
         "type": "string"
        },
        {
         "name": "Area",
         "rawType": "float64",
         "type": "float"
        },
        {
         "name": "Frontage",
         "rawType": "float64",
         "type": "float"
        },
        {
         "name": "Access Road",
         "rawType": "float64",
         "type": "float"
        },
        {
         "name": "House direction",
         "rawType": "object",
         "type": "string"
        },
        {
         "name": "Balcony direction",
         "rawType": "object",
         "type": "unknown"
        },
        {
         "name": "Floors",
         "rawType": "float64",
         "type": "float"
        },
        {
         "name": "Bedrooms",
         "rawType": "float64",
         "type": "float"
        },
        {
         "name": "Bathrooms",
         "rawType": "float64",
         "type": "float"
        },
        {
         "name": "Legal status",
         "rawType": "object",
         "type": "string"
        },
        {
         "name": "Furniture state",
         "rawType": "object",
         "type": "unknown"
        },
        {
         "name": "Price",
         "rawType": "float64",
         "type": "float"
        }
       ],
       "conversionMethod": "pd.DataFrame",
       "ref": "ba2d34c0-b7c7-4535-8089-374ce38e1ab5",
       "rows": [
        [
         "2",
         "Dự án The Crown - Vinhomes Ocean Park 3, Xã Nghĩa Trụ, Văn Giang, Hưng Yên",
         "90.0",
         "6.0",
         "13.0",
         "Đông - Bắc",
         "Đông - Bắc",
         "5.0",
         "3.0",
         "3.0",
         "Sale contract",
         null,
         "8.9"
        ],
        [
         "3",
         "Đường Nguyễn Văn Khối, Phường 11, Gò Vấp, Hồ Chí Minh",
         "54.0",
         "4.5",
         "3.5",
         "Tây - Nam",
         "Tây - Nam",
         "2.0",
         "2.0",
         "3.0",
         "Have certificate",
         "Full",
         "5.35"
        ],
        [
         "4",
         "Đường Quang Trung, Phường 8, Gò Vấp, Hồ Chí Minh",
         "92.0",
         "4.5",
         "5.5",
         "Đông - Nam",
         "Đông - Nam",
         "2.0",
         "4.0",
         "4.0",
         "Have certificate",
         "Full",
         "6.9"
        ],
        [
         "5",
         "Dự án The Empire - Vinhomes Ocean Park 2, Xã Long Hưng, Văn Giang, Hưng Yên",
         "91.0",
         "7.0",
         "13.0",
         "Tây - Bắc",
         null,
         "3.0",
         "3.0",
         "3.0",
         "Have certificate",
         null,
         "9.8"
        ],
        [
         "7",
         "Dự án Him Lam Thường Tín, Huyện Thường Tín, Hà Nội",
         "74.0",
         "5.0",
         "18.0",
         "Nam",
         "Nam",
         "5.0",
         "4.0",
         "5.0",
         "Have certificate",
         null,
         "9.9"
        ]
       ],
       "shape": {
        "columns": 12,
        "rows": 5
       }
      },
      "text/html": [
       "<div>\n",
       "<style scoped>\n",
       "    .dataframe tbody tr th:only-of-type {\n",
       "        vertical-align: middle;\n",
       "    }\n",
       "\n",
       "    .dataframe tbody tr th {\n",
       "        vertical-align: top;\n",
       "    }\n",
       "\n",
       "    .dataframe thead th {\n",
       "        text-align: right;\n",
       "    }\n",
       "</style>\n",
       "<table border=\"1\" class=\"dataframe\">\n",
       "  <thead>\n",
       "    <tr style=\"text-align: right;\">\n",
       "      <th></th>\n",
       "      <th>Address</th>\n",
       "      <th>Area</th>\n",
       "      <th>Frontage</th>\n",
       "      <th>Access Road</th>\n",
       "      <th>House direction</th>\n",
       "      <th>Balcony direction</th>\n",
       "      <th>Floors</th>\n",
       "      <th>Bedrooms</th>\n",
       "      <th>Bathrooms</th>\n",
       "      <th>Legal status</th>\n",
       "      <th>Furniture state</th>\n",
       "      <th>Price</th>\n",
       "    </tr>\n",
       "  </thead>\n",
       "  <tbody>\n",
       "    <tr>\n",
       "      <th>2</th>\n",
       "      <td>Dự án The Crown - Vinhomes Ocean Park 3, Xã Ng...</td>\n",
       "      <td>90.0</td>\n",
       "      <td>6.0</td>\n",
       "      <td>13.0</td>\n",
       "      <td>Đông - Bắc</td>\n",
       "      <td>Đông - Bắc</td>\n",
       "      <td>5.0</td>\n",
       "      <td>3.0</td>\n",
       "      <td>3.0</td>\n",
       "      <td>Sale contract</td>\n",
       "      <td>NaN</td>\n",
       "      <td>8.90</td>\n",
       "    </tr>\n",
       "    <tr>\n",
       "      <th>3</th>\n",
       "      <td>Đường Nguyễn Văn Khối, Phường 11, Gò Vấp, Hồ C...</td>\n",
       "      <td>54.0</td>\n",
       "      <td>4.5</td>\n",
       "      <td>3.5</td>\n",
       "      <td>Tây - Nam</td>\n",
       "      <td>Tây - Nam</td>\n",
       "      <td>2.0</td>\n",
       "      <td>2.0</td>\n",
       "      <td>3.0</td>\n",
       "      <td>Have certificate</td>\n",
       "      <td>Full</td>\n",
       "      <td>5.35</td>\n",
       "    </tr>\n",
       "    <tr>\n",
       "      <th>4</th>\n",
       "      <td>Đường Quang Trung, Phường 8, Gò Vấp, Hồ Chí Minh</td>\n",
       "      <td>92.0</td>\n",
       "      <td>4.5</td>\n",
       "      <td>5.5</td>\n",
       "      <td>Đông - Nam</td>\n",
       "      <td>Đông - Nam</td>\n",
       "      <td>2.0</td>\n",
       "      <td>4.0</td>\n",
       "      <td>4.0</td>\n",
       "      <td>Have certificate</td>\n",
       "      <td>Full</td>\n",
       "      <td>6.90</td>\n",
       "    </tr>\n",
       "    <tr>\n",
       "      <th>5</th>\n",
       "      <td>Dự án The Empire - Vinhomes Ocean Park 2, Xã L...</td>\n",
       "      <td>91.0</td>\n",
       "      <td>7.0</td>\n",
       "      <td>13.0</td>\n",
       "      <td>Tây - Bắc</td>\n",
       "      <td>NaN</td>\n",
       "      <td>3.0</td>\n",
       "      <td>3.0</td>\n",
       "      <td>3.0</td>\n",
       "      <td>Have certificate</td>\n",
       "      <td>NaN</td>\n",
       "      <td>9.80</td>\n",
       "    </tr>\n",
       "    <tr>\n",
       "      <th>7</th>\n",
       "      <td>Dự án Him Lam Thường Tín, Huyện Thường Tín, Hà...</td>\n",
       "      <td>74.0</td>\n",
       "      <td>5.0</td>\n",
       "      <td>18.0</td>\n",
       "      <td>Nam</td>\n",
       "      <td>Nam</td>\n",
       "      <td>5.0</td>\n",
       "      <td>4.0</td>\n",
       "      <td>5.0</td>\n",
       "      <td>Have certificate</td>\n",
       "      <td>NaN</td>\n",
       "      <td>9.90</td>\n",
       "    </tr>\n",
       "  </tbody>\n",
       "</table>\n",
       "</div>"
      ],
      "text/plain": [
       "                                             Address  Area  Frontage  \\\n",
       "2  Dự án The Crown - Vinhomes Ocean Park 3, Xã Ng...  90.0       6.0   \n",
       "3  Đường Nguyễn Văn Khối, Phường 11, Gò Vấp, Hồ C...  54.0       4.5   \n",
       "4   Đường Quang Trung, Phường 8, Gò Vấp, Hồ Chí Minh  92.0       4.5   \n",
       "5  Dự án The Empire - Vinhomes Ocean Park 2, Xã L...  91.0       7.0   \n",
       "7  Dự án Him Lam Thường Tín, Huyện Thường Tín, Hà...  74.0       5.0   \n",
       "\n",
       "   Access Road House direction Balcony direction  Floors  Bedrooms  Bathrooms  \\\n",
       "2         13.0      Đông - Bắc        Đông - Bắc     5.0       3.0        3.0   \n",
       "3          3.5       Tây - Nam         Tây - Nam     2.0       2.0        3.0   \n",
       "4          5.5      Đông - Nam        Đông - Nam     2.0       4.0        4.0   \n",
       "5         13.0       Tây - Bắc               NaN     3.0       3.0        3.0   \n",
       "7         18.0             Nam               Nam     5.0       4.0        5.0   \n",
       "\n",
       "       Legal status Furniture state  Price  \n",
       "2     Sale contract             NaN   8.90  \n",
       "3  Have certificate            Full   5.35  \n",
       "4  Have certificate            Full   6.90  \n",
       "5  Have certificate             NaN   9.80  \n",
       "7  Have certificate             NaN   9.90  "
      ]
     },
     "metadata": {},
     "output_type": "display_data"
    },
    {
     "data": {
      "text/plain": [
       "House direction      18222\n",
       "Balcony direction    21854\n",
       "Legal status          2774\n",
       "Furniture state      11162\n",
       "dtype: int64"
      ]
     },
     "metadata": {},
     "output_type": "display_data"
    },
    {
     "data": {
      "application/vnd.microsoft.datawrangler.viewer.v0+json": {
       "columns": [
        {
         "name": "index",
         "rawType": "object",
         "type": "string"
        },
        {
         "name": "Area",
         "rawType": "float64",
         "type": "float"
        },
        {
         "name": "Frontage",
         "rawType": "float64",
         "type": "float"
        },
        {
         "name": "Access Road",
         "rawType": "float64",
         "type": "float"
        },
        {
         "name": "Floors",
         "rawType": "float64",
         "type": "float"
        },
        {
         "name": "Bedrooms",
         "rawType": "float64",
         "type": "float"
        },
        {
         "name": "Bathrooms",
         "rawType": "float64",
         "type": "float"
        },
        {
         "name": "Price",
         "rawType": "float64",
         "type": "float"
        }
       ],
       "conversionMethod": "pd.DataFrame",
       "ref": "cf1e60b6-36ec-45b0-a203-5fe9c4e7c325",
       "rows": [
        [
         "max",
         "595.0",
         "77.0",
         "85.0",
         "10.0",
         "9.0",
         "9.0",
         "11.5"
        ],
        [
         "min",
         "3.1",
         "1.0",
         "1.0",
         "1.0",
         "1.0",
         "1.0",
         "1.0"
        ],
        [
         "mean",
         "67.46428439622085",
         "5.073348095659876",
         "6.920554325361677",
         "3.3635961027457926",
         "3.467190729258931",
         "3.297793032181872",
         "5.838154709182167"
        ],
        [
         "std",
         "46.85204219905393",
         "3.59839891022886",
         "5.91338200978589",
         "1.2830729168003325",
         "1.2585171366409316",
         "1.29598451517224",
         "2.206987647519676"
        ]
       ],
       "shape": {
        "columns": 7,
        "rows": 4
       }
      },
      "text/html": [
       "<div>\n",
       "<style scoped>\n",
       "    .dataframe tbody tr th:only-of-type {\n",
       "        vertical-align: middle;\n",
       "    }\n",
       "\n",
       "    .dataframe tbody tr th {\n",
       "        vertical-align: top;\n",
       "    }\n",
       "\n",
       "    .dataframe thead th {\n",
       "        text-align: right;\n",
       "    }\n",
       "</style>\n",
       "<table border=\"1\" class=\"dataframe\">\n",
       "  <thead>\n",
       "    <tr style=\"text-align: right;\">\n",
       "      <th></th>\n",
       "      <th>Area</th>\n",
       "      <th>Frontage</th>\n",
       "      <th>Access Road</th>\n",
       "      <th>Floors</th>\n",
       "      <th>Bedrooms</th>\n",
       "      <th>Bathrooms</th>\n",
       "      <th>Price</th>\n",
       "    </tr>\n",
       "  </thead>\n",
       "  <tbody>\n",
       "    <tr>\n",
       "      <th>max</th>\n",
       "      <td>595.000000</td>\n",
       "      <td>77.000000</td>\n",
       "      <td>85.000000</td>\n",
       "      <td>10.000000</td>\n",
       "      <td>9.000000</td>\n",
       "      <td>9.000000</td>\n",
       "      <td>11.500000</td>\n",
       "    </tr>\n",
       "    <tr>\n",
       "      <th>min</th>\n",
       "      <td>3.100000</td>\n",
       "      <td>1.000000</td>\n",
       "      <td>1.000000</td>\n",
       "      <td>1.000000</td>\n",
       "      <td>1.000000</td>\n",
       "      <td>1.000000</td>\n",
       "      <td>1.000000</td>\n",
       "    </tr>\n",
       "    <tr>\n",
       "      <th>mean</th>\n",
       "      <td>67.464284</td>\n",
       "      <td>5.073348</td>\n",
       "      <td>6.920554</td>\n",
       "      <td>3.363596</td>\n",
       "      <td>3.467191</td>\n",
       "      <td>3.297793</td>\n",
       "      <td>5.838155</td>\n",
       "    </tr>\n",
       "    <tr>\n",
       "      <th>std</th>\n",
       "      <td>46.852042</td>\n",
       "      <td>3.598399</td>\n",
       "      <td>5.913382</td>\n",
       "      <td>1.283073</td>\n",
       "      <td>1.258517</td>\n",
       "      <td>1.295985</td>\n",
       "      <td>2.206988</td>\n",
       "    </tr>\n",
       "  </tbody>\n",
       "</table>\n",
       "</div>"
      ],
      "text/plain": [
       "            Area   Frontage  Access Road     Floors  Bedrooms  Bathrooms  \\\n",
       "max   595.000000  77.000000    85.000000  10.000000  9.000000   9.000000   \n",
       "min     3.100000   1.000000     1.000000   1.000000  1.000000   1.000000   \n",
       "mean   67.464284   5.073348     6.920554   3.363596  3.467191   3.297793   \n",
       "std    46.852042   3.598399     5.913382   1.283073  1.258517   1.295985   \n",
       "\n",
       "          Price  \n",
       "max   11.500000  \n",
       "min    1.000000  \n",
       "mean   5.838155  \n",
       "std    2.206988  "
      ]
     },
     "metadata": {},
     "output_type": "display_data"
    },
    {
     "data": {
      "image/png": "[encoded data removed]",
      "text/plain": [
       "<Figure size 1200x600 with 1 Axes>"
      ]
     },
     "metadata": {},
     "output_type": "display_data"
    },
    {
     "name": "stdout",
     "output_type": "stream",
     "text": [
      "Tên các cột trong dữ liệu: Index(['Address', 'Area', 'Frontage', 'Access Road', 'House direction',\n",
      "       'Balcony direction', 'Floors', 'Bedrooms', 'Bathrooms', 'Legal status',\n",
      "       'Furniture state', 'Price'],\n",
      "      dtype='object')\n"
     ]
    }
   ],
   "source": [
    "# Tiền xử lý dữ liệu\n",
    "# Loại bỏ các dòng có giá trị bị thiếu quá nhiều (tùy vào ngưỡng)\n",
    "df.dropna(thresh=len(df.columns) * 0.5, inplace=True)\n",
    "\n",
    "# Điền giá trị trung bình cho các cột số bị thiếu\n",
    "df.fillna(df.median(numeric_only=True), inplace=True)\n",
    "\n",
    "# Hiển thị thông tin tổng quan về dữ liệu\n",
    "display(df.info())\n",
    "display(df.head())\n",
    "\n",
    "# Kiểm tra dữ liệu bị thiếu\n",
    "missing_values = df.isnull().sum()\n",
    "display(missing_values[missing_values > 0])\n",
    "\n",
    "# Mô tả dữ liệu: Max, Min, Mean, STD\n",
    "descriptive_stats = df.describe().loc[[\"max\", \"min\", \"mean\", \"std\"]]\n",
    "display(descriptive_stats)\n",
    "\n",
    "# Biểu đồ phân phối giá nhà\n",
    "plt.figure(figsize=(12, 6))\n",
    "sns.violinplot(x=df[\"Price\"])\n",
    "plt.title(\"House Price Distribution (Violin Plot)\")\n",
    "plt.show()\n",
    "\n",
    "# Kiểm tra xem có cột thời gian không\n",
    "print(\"Tên các cột trong dữ liệu:\", df.columns)"
   ]
  }
 ],
 "metadata": {
  "kernelspec": {
   "display_name": "Python 3",
   "language": "python",
   "name": "python3"
  },
  "language_info": {
   "codemirror_mode": {
    "name": "ipython",
    "version": 3
   },
   "file_extension": ".py",
   "mimetype": "text/x-python",
   "name": "python",
   "nbconvert_exporter": "python",
   "pygments_lexer": "ipython3",
   "version": "3.13.2"
  }
 },
 "nbformat": 4,
 "nbformat_minor": 2
}
