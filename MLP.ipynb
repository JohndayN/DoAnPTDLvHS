{
 "cells": [
  {
   "cell_type": "code",
   "execution_count": null,
   "metadata": {},
   "outputs": [
    {
     "ename": "",
     "evalue": "",
     "output_type": "error",
     "traceback": [
      "\u001b[1;31mRunning cells with '.venv (Python 3.11.2)' requires the ipykernel package.\n",
      "\u001b[1;31mRun the following command to install 'ipykernel' into the Python environment. \n",
      "\u001b[1;31mCommand: '\"c:/Users/Windows 11 Pro/Documents/Studies/PhanTichDuLieuvaHocSau/DoAnPTDLvHS/.venv/Scripts/python.exe\" -m pip install ipykernel -U --force-reinstall'"
     ]
    }
   ],
   "source": [
    "\n",
    "import pandas as pd\n",
    "import numpy as np\n",
    "import tensorflow as tf\n",
    "from tensorflow import keras\n",
    "from tensorflow.keras.models import Sequential\n",
    "from tensorflow.keras.layers import Dense, Dropout\n",
    "from sklearn.model_selection import train_test_split\n",
    "from sklearn.preprocessing import StandardScaler\n",
    "\n",
    "filename1 = \"vietnam_housing_dataset.csv\"\n",
    "filename2 = \"cleaned_vietnam_housing_dataset.csv\"\n",
    "def load_data(filename):\n",
    "    \"\"\"Loads the preprocessed dataset.\"\"\"\n",
    "    df = pd.read_csv(filename)\n",
    "    df = df.select_dtypes(include=[np.number]).dropna()  # Ensure only numeric columns\n",
    "    X = df.drop(columns=[\"Price\"], errors=\"ignore\")  # Features\n",
    "    y = df[\"Price\"] if \"Price\" in df.columns else df.iloc[:, -1]  # Target\n",
    "    \n",
    "    return train_test_split(X, y, test_size=0.2, random_state=42)\n",
    "\n",
    "def train_mlp(X_train, X_test, y_train, y_test, epochs=100, batch_size=32):\n",
    "    \"\"\"Builds, trains, and evaluates an MLP model for house price prediction.\"\"\"\n",
    "    \n",
    "    # Normalize features\n",
    "    scaler = StandardScaler()\n",
    "    X_train = scaler.fit_transform(X_train)\n",
    "    X_test = scaler.transform(X_test)\n",
    "    \n",
    "    # Define the MLP model\n",
    "    model = Sequential([\n",
    "        Dense(128, activation=\"relu\", input_shape=(X_train.shape[1],)),\n",
    "        Dropout(0.2),\n",
    "        Dense(64, activation=\"relu\"),\n",
    "        Dense(1)  # Regression output layer (predicting house price)\n",
    "    ])\n",
    "\n",
    "    # Compile the model\n",
    "    model.compile(optimizer=\"adam\", loss=\"mse\", metrics=[\"mae\"])\n",
    "\n",
    "    # Train the model\n",
    "    model.fit(X_train, y_train, validation_data=(X_test, y_test), epochs=epochs, batch_size=batch_size)\n",
    "\n",
    "    # Evaluate the model\n",
    "    loss, mae = model.evaluate(X_test, y_test)\n",
    "    print(f\"Test MAE: {mae:.2f}\")\n",
    "    \n",
    "    return model\n",
    "\n",
    "# Load the preprocessed dataset from DoAn.ipynb\n",
    "X_train, X_test, y_train, y_test = load_data(filename2)\n",
    "\n",
    "# Train the MLP model\n",
    "mlp_model = train_mlp(X_train, X_test, y_train, y_test, epochs=50, batch_size=32)\n"
   ]
  }
 ],
 "metadata": {
  "kernelspec": {
   "display_name": ".venv",
   "language": "python",
   "name": "python3"
  },
  "language_info": {
   "codemirror_mode": {
    "name": "ipython",
    "version": 3
   },
   "file_extension": ".py",
   "mimetype": "text/x-python",
   "name": "python",
   "nbconvert_exporter": "python",
   "pygments_lexer": "ipython3",
   "version": "3.11.2"
  }
 },
 "nbformat": 4,
 "nbformat_minor": 2
}
