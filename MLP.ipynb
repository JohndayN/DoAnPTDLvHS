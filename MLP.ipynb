{
 "cells": [
  {
   "cell_type": "code",
   "execution_count": 5,
   "metadata": {},
   "outputs": [
    {
     "name": "stdout",
     "output_type": "stream",
     "text": [
      "Test MAE: 1.45\n"
     ]
    }
   ],
   "source": [
    "import pandas as pd\n",
    "import numpy as np\n",
    "from sklearn.model_selection import train_test_split\n",
    "from sklearn.preprocessing import StandardScaler\n",
    "from sklearn.neural_network import MLPRegressor\n",
    "from sklearn.metrics import mean_absolute_error\n",
    "\n",
    "def load_data(filename):\n",
    "    \"\"\"Loads the preprocessed dataset.\"\"\"\n",
    "    df = pd.read_csv(filename)\n",
    "    df = df.select_dtypes(include=[np.number]).dropna()  # Ensure only numeric columns\n",
    "    X = df.drop(columns=[\"Price\"], errors=\"ignore\")  # Features\n",
    "    y = df[\"Price\"] if \"Price\" in df.columns else df.iloc[:, -1]  # Target\n",
    "    \n",
    "    return train_test_split(X, y, test_size=0.2, random_state=42)\n",
    "\n",
    "def train_mlp(X_train, X_test, y_train, y_test, hidden_layers=(128, 64), max_iter=500):\n",
    "    \"\"\"Builds, trains, and evaluates an MLP model using Scikit-Learn.\"\"\"\n",
    "\n",
    "    # Normalize features\n",
    "    scaler = StandardScaler()\n",
    "    X_train = scaler.fit_transform(X_train)\n",
    "    X_test = scaler.transform(X_test)\n",
    "\n",
    "    # Define MLP model\n",
    "    mlp = MLPRegressor(hidden_layer_sizes=hidden_layers, activation=\"relu\", solver=\"adam\",\n",
    "                        max_iter=max_iter, random_state=42)\n",
    "\n",
    "    # Train model\n",
    "    mlp.fit(X_train, y_train)\n",
    "\n",
    "    # Make predictions\n",
    "    y_pred = mlp.predict(X_test)\n",
    "\n",
    "    # Evaluate model\n",
    "    mae = mean_absolute_error(y_test, y_pred)\n",
    "    print(f\"Test MAE: {mae:.2f}\")\n",
    "\n",
    "    return mlp\n",
    "\n",
    "# Load the csv file in\n",
    "filename1=\"vietnam_housing_dataset.csv\"\n",
    "X_train, X_test, y_train, y_test = load_data(filename1)\n",
    "\n",
    "# Train the MLP model using Scikit-Learn\n",
    "mlp_model1 = train_mlp(X_train, X_test, y_train, y_test, hidden_layers=(128, 64), max_iter=500)\n"
   ]
  },
  {
   "cell_type": "code",
   "execution_count": 6,
   "metadata": {},
   "outputs": [
    {
     "name": "stdout",
     "output_type": "stream",
     "text": [
      "Test MAE: 1.42\n"
     ]
    }
   ],
   "source": [
    "# Load the preprocessed dataset from DoAn.ipynb\n",
    "filename2=\"vietnam_housing_dataset_cleaned_data.csv\"\n",
    "X_train, X_test, y_train, y_test = load_data(filename2)\n",
    "\n",
    "# Train the MLP model using Scikit-Learn\n",
    "mlp_model2 = train_mlp(X_train, X_test, y_train, y_test, hidden_layers=(128, 64), max_iter=500)\n"
   ]
  }
 ],
 "metadata": {
  "kernelspec": {
   "display_name": "venv",
   "language": "python",
   "name": "python3"
  },
  "language_info": {
   "codemirror_mode": {
    "name": "ipython",
    "version": 3
   },
   "file_extension": ".py",
   "mimetype": "text/x-python",
   "name": "python",
   "nbconvert_exporter": "python",
   "pygments_lexer": "ipython3",
   "version": "3.11.2"
  }
 },
 "nbformat": 4,
 "nbformat_minor": 2
}
